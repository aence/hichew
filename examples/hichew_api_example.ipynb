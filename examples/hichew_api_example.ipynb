{
  "nbformat": 4,
  "nbformat_minor": 0,
  "metadata": {
    "colab": {
      "name": "hichew_api_example.ipynb",
      "provenance": []
    },
    "kernelspec": {
      "display_name": "Python 3",
      "language": "python",
      "name": "python3"
    },
    "language_info": {
      "codemirror_mode": {
        "name": "ipython",
        "version": 3
      },
      "file_extension": ".py",
      "mimetype": "text/x-python",
      "name": "python",
      "nbconvert_exporter": "python",
      "pygments_lexer": "ipython3",
      "version": "3.7.3"
    }
  },
  "cells": [
    {
      "cell_type": "markdown",
      "metadata": {
        "id": "39KB2mLixcDv"
      },
      "source": [
        "## Hi! This is a **notebook** for DNA-DNA interactions analysis \n",
        "\n",
        "\n",
        "Notabook is a piece of programming code with annotations and a diary of your actions at the same time. In this notebook we will go into details of time series analysis for DNA-DNA interactions.\n",
        "\n",
        "It was designed so that you can understand of basics in multiple fields simultaneously:\n",
        "\n",
        "- Colab Google service for programming code development\n",
        "\n",
        "- Jupyter notebooks for programming demonstration\n",
        "\n",
        "- Python programming\n",
        "\n",
        "- Theory of DNA-DNA interactions capture in biological samples (Hi-C)\n",
        "\n",
        "- Hi-C data analysis and manipulation\n",
        "\n",
        "As you can see, these are multiple problems that we tackle here, and it's okay to **question how it works** and **pause and look into steps until you got them**."
      ]
    },
    {
      "cell_type": "markdown",
      "metadata": {
        "id": "HRGErS1yzAAp"
      },
      "source": [
        "Let's start from simple things to get acquainted with Colab and notebooks.\n"
      ]
    },
    {
      "cell_type": "code",
      "metadata": {
        "id": "BzxkuIBzy-cq"
      },
      "source": [
        "### This is a piece of Python code that you can run by clicking the \"play\" button or pressing Shift+Enter\n",
        "print(\"Hello, SMTBologist!\")"
      ],
      "execution_count": null,
      "outputs": []
    },
    {
      "cell_type": "code",
      "metadata": {
        "id": "Ss3spt_BzrPF"
      },
      "source": [
        "# Ah, if you see some text starting with \"#\", it is a comment and not a code itself"
      ],
      "execution_count": null,
      "outputs": []
    },
    {
      "cell_type": "code",
      "metadata": {
        "id": "_dhMmT3_z4En"
      },
      "source": [
        "# If you want to learn more about function or variable in Python, you can always ask for help. Just type:\n",
        "print?"
      ],
      "execution_count": null,
      "outputs": []
    },
    {
      "cell_type": "markdown",
      "metadata": {
        "id": "tjtBvWsD0MZY"
      },
      "source": [
        "### Set up the coding environment"
      ]
    },
    {
      "cell_type": "code",
      "metadata": {
        "id": "2D-fzg6Ur-WN"
      },
      "source": [
        "# Download and install code\n",
        "! git clone https://github.com/encent/hichew && cd hichew && pip install -e .\n",
        "! git clone https://github.com/nvictus/lavaburst.git && cd lavaburst && make build -f Makefile && make install -f Makefile"
      ],
      "execution_count": null,
      "outputs": []
    },
    {
      "cell_type": "code",
      "metadata": {
        "id": "e06pi02stf-t"
      },
      "source": [
        "# Mount your Google Drive\n",
        "from google.colab import drive\n",
        "drive.mount('/content/drive')"
      ],
      "execution_count": null,
      "outputs": []
    },
    {
      "cell_type": "code",
      "metadata": {
        "id": "nDGIw0UdqzJ1"
      },
      "source": [
        "# Import important packages\n",
        "import numpy as np\n",
        "import pandas as pd\n",
        "import matplotlib as mpl\n",
        "import matplotlib.pyplot as plt"
      ],
      "execution_count": null,
      "outputs": []
    },
    {
      "cell_type": "markdown",
      "metadata": {
        "id": "dTdvB8hnuL_n"
      },
      "source": [
        "### What are DNA-DNA interactions and how do we measure them?\n",
        "\n",
        "Hi-C is an experimental technique that outputs DNA_DNA interactions in the nuclei of the tested cells:\n",
        "\n"
      ]
    },
    {
      "cell_type": "code",
      "metadata": {
        "id": "bN4cwe13uPti"
      },
      "source": [
        "%%html\n",
        "<iframe src=\"https://slides.com/agalicina/time-series-dna-graph/embed\" width=\"576\" height=\"420\" scrolling=\"no\" frameborder=\"0\" webkitallowfullscreen mozallowfullscreen allowfullscreen></iframe>"
      ],
      "execution_count": null,
      "outputs": []
    },
    {
      "cell_type": "markdown",
      "metadata": {
        "id": "I_mJbUIHwu09"
      },
      "source": [
        "Let's analyse Hi-C data!"
      ]
    },
    {
      "cell_type": "code",
      "metadata": {
        "id": "mgmxodHSwjt8"
      },
      "source": [
        "import cooler # Load the package to work with Hi-C\n",
        "import networkx as nx # Visualize the graph"
      ],
      "execution_count": null,
      "outputs": []
    },
    {
      "cell_type": "code",
      "metadata": {
        "id": "CfmEeen0w-nU"
      },
      "source": [
        "!ls /content/drive/MyDrive/SMTB_data/"
      ],
      "execution_count": null,
      "outputs": []
    },
    {
      "cell_type": "code",
      "metadata": {
        "id": "QL_4598Pw4UG"
      },
      "source": [
        "cool_file = cooler.Cooler('/content/drive/MyDrive/SMTB_data/3-4h_repl_merged_5kb.mcool::/resolutions/20000')"
      ],
      "execution_count": null,
      "outputs": []
    },
    {
      "cell_type": "code",
      "metadata": {
        "id": "FU27K75LxQ1q"
      },
      "source": [
        "cool_file.info"
      ],
      "execution_count": null,
      "outputs": []
    },
    {
      "cell_type": "code",
      "metadata": {
        "id": "BLVgcLui0pyB"
      },
      "source": [
        "cool_file.chromnames"
      ],
      "execution_count": null,
      "outputs": []
    },
    {
      "cell_type": "code",
      "metadata": {
        "id": "-DTwtTobxIuy"
      },
      "source": [
        "interactions = cool_file.matrix(as_pixels=True).fetch('chr2L')"
      ],
      "execution_count": null,
      "outputs": []
    },
    {
      "cell_type": "code",
      "metadata": {
        "id": "qqC6vBwP0wVY"
      },
      "source": [
        "interactions.head()"
      ],
      "execution_count": null,
      "outputs": []
    },
    {
      "cell_type": "code",
      "metadata": {
        "id": "sgZCmoOC1i6D"
      },
      "source": [
        "matrix = cool_file.matrix(as_pixels=False).fetch('chr2L')"
      ],
      "execution_count": null,
      "outputs": []
    },
    {
      "cell_type": "code",
      "metadata": {
        "id": "Hh8vJKuF3D6i"
      },
      "source": [
        "plt.figure(figsize=[5,5])\n",
        "plt.imshow(matrix[0:30, 0:30], cmap='Reds', vmax=0.2)"
      ],
      "execution_count": null,
      "outputs": []
    },
    {
      "cell_type": "markdown",
      "metadata": {
        "id": "6hPj9RRe0zEM"
      },
      "source": [
        "Let's visualize it as a graph:"
      ]
    },
    {
      "cell_type": "code",
      "metadata": {
        "id": "H9vZ3-US1n5V"
      },
      "source": [
        "G = nx.convert_matrix.from_numpy_matrix(matrix[0:30, 0:30])"
      ],
      "execution_count": null,
      "outputs": []
    },
    {
      "cell_type": "code",
      "metadata": {
        "id": "BnrlQPoG0yYf"
      },
      "source": [
        "plt.figure(figsize=[14,7])\n",
        "subax1 = plt.subplot(121)\n",
        "nx.draw(G, with_labels=True, font_weight='bold')\n",
        "subax2 = plt.subplot(122)\n",
        "nx.draw_shell(G, with_labels=True, font_weight='bold')"
      ],
      "execution_count": null,
      "outputs": []
    },
    {
      "cell_type": "code",
      "metadata": {
        "id": "teZSvoSK5EdP"
      },
      "source": [
        "plt.figure(figsize=[14,14])\n",
        "\n",
        "elarge = [(u, v) for (u, v, d) in G.edges(data=True) if d[\"weight\"] > 0.1]\n",
        "esmall = [(u, v) for (u, v, d) in G.edges(data=True) if d[\"weight\"] <= 0.1]\n",
        "\n",
        "pos = nx.spring_layout(G, seed=7)  # positions for all nodes - seed for reproducibility\n",
        "\n",
        "# nodes\n",
        "nx.draw_networkx_nodes(G, pos, node_size=700)\n",
        "\n",
        "# edges\n",
        "nx.draw_networkx_edges(G, pos, edgelist=elarge, width=2)\n",
        "nx.draw_networkx_edges(G, pos, edgelist=esmall, width=1, alpha=0.5, edge_color=\"b\")\n",
        "\n",
        "# labels\n",
        "nx.draw_networkx_labels(G, pos, font_size=20, font_family=\"sans-serif\")\n",
        "\n",
        "print('')"
      ],
      "execution_count": null,
      "outputs": []
    },
    {
      "cell_type": "markdown",
      "metadata": {
        "id": "kczGTmnEuQDa"
      },
      "source": [
        "### Analysis of a set of experiments"
      ]
    },
    {
      "cell_type": "code",
      "metadata": {
        "id": "WPttiTeHsOJN"
      },
      "source": [
        "import hichew"
      ],
      "execution_count": null,
      "outputs": []
    },
    {
      "cell_type": "code",
      "metadata": {
        "id": "GILsbteNqzJ2"
      },
      "source": [
        "from hichew.calling import boundaries, domains, clusters\n",
        "from hichew.compute import normalize, d_scores, insulation_scores, silhouette"
      ],
      "execution_count": null,
      "outputs": []
    },
    {
      "cell_type": "code",
      "metadata": {
        "id": "iDjMoDYeqzJ2"
      },
      "source": [
        "from hichew.loader import cool_files"
      ],
      "execution_count": null,
      "outputs": []
    },
    {
      "cell_type": "code",
      "metadata": {
        "id": "0jvYIdi2qzJ3"
      },
      "source": [
        "from hichew.plot import clusters_dynamics, viz_opt_curves, viz_tads, _pca, _tsne"
      ],
      "execution_count": null,
      "outputs": []
    },
    {
      "cell_type": "code",
      "metadata": {
        "id": "tRxBI5xnqzJ3"
      },
      "source": [
        "%matplotlib inline"
      ],
      "execution_count": null,
      "outputs": []
    },
    {
      "cell_type": "markdown",
      "metadata": {
        "id": "830DpD8ZqzJ3"
      },
      "source": [
        "### Load cool files:"
      ]
    },
    {
      "cell_type": "code",
      "metadata": {
        "id": "kRhK72-uqzJ4"
      },
      "source": [
        "matrices, coolers = cool_files('/content/drive/MyDrive/SMTB_data/', resolution=5000, chromnames=['chrX'])"
      ],
      "execution_count": null,
      "outputs": []
    },
    {
      "cell_type": "code",
      "metadata": {
        "id": "KU4Xg5KqqzJ5"
      },
      "source": [
        "matrices.keys()"
      ],
      "execution_count": null,
      "outputs": []
    },
    {
      "cell_type": "markdown",
      "metadata": {
        "id": "UTpjutL-qzKC"
      },
      "source": [
        "# TADs"
      ]
    },
    {
      "cell_type": "markdown",
      "metadata": {
        "id": "xCJGH4THqzKC"
      },
      "source": [
        "### Call TADs:"
      ]
    },
    {
      "cell_type": "code",
      "metadata": {
        "id": "N42P3uuXqzKD"
      },
      "source": [
        "TADs_stats, TADs_df, TADs_df_opt = domains(matrices, coolers, method='armatus', label='3-4h_repl_merged_5kb', \n",
        "                                           expected_tad_size=60000, grid=list(np.arange(0, 5, 0.01)), \n",
        "                                           chromnames=['chrX'], max_intertad=3, percentile=99.9, eps=1e-1)\n",
        "\n",
        "# TADs_stats, TADs_df, TADs_df_opt = domains(matrices, coolers, method='modularity', label='3-4h_repl_merged_5kb', \n",
        "#                                            expected_tad_size=60000, grid=list(np.arange(0, 200, 0.1)), \n",
        "#                                            chromnames=['chrX'], max_intertad=2, percentile=99.9, eps=1e-1)"
      ],
      "execution_count": null,
      "outputs": []
    },
    {
      "cell_type": "code",
      "metadata": {
        "id": "EpUfIbESqzKD"
      },
      "source": [
        "TADs_df_opt.shape"
      ],
      "execution_count": null,
      "outputs": []
    },
    {
      "cell_type": "markdown",
      "metadata": {
        "id": "0mtmiYN2qzKD"
      },
      "source": [
        "### Visualize opt curves:"
      ]
    },
    {
      "cell_type": "code",
      "metadata": {
        "id": "9iuNOQCFqzKD"
      },
      "source": [
        "viz_opt_curves(TADs_df, TADs_df_opt, method='modularity', chromnames=['chrX'], expected_mts=60000/5000, stage='3-4h_repl_merged_5kb')\n",
        "\n"
      ],
      "execution_count": null,
      "outputs": []
    },
    {
      "cell_type": "markdown",
      "metadata": {
        "id": "1OKJ0mG1qzKD"
      },
      "source": [
        "### Visualize TADs:"
      ]
    },
    {
      "cell_type": "code",
      "metadata": {
        "id": "ekJbfGYeqzKE"
      },
      "source": [
        "viz_tads(TADs_df_opt, matrices, begin=300, end=500, ch='chrX', exp='3-4h_repl_merged_5kb', \n",
        "         resolution=5000, is_insulation=False, percentile=99.99)"
      ],
      "execution_count": null,
      "outputs": []
    },
    {
      "cell_type": "markdown",
      "metadata": {
        "id": "q5vDRGyJqzKE"
      },
      "source": [
        "### Compute D-scores:"
      ]
    },
    {
      "cell_type": "code",
      "metadata": {
        "id": "EUaUkTTnqzKE"
      },
      "source": [
        "stages_embryo = ['nuclear_cycle_12_repl_merged_5kb', 'nuclear_cycle_13_repl_merged_5kb', 'nuclear_cycle_14_repl_merged_5kb', '3-4h_repl_merged_5kb']"
      ],
      "execution_count": null,
      "outputs": []
    },
    {
      "cell_type": "code",
      "metadata": {
        "id": "WyW_vtQyqzKE"
      },
      "source": [
        "TADs_scores = d_scores(TADs_df_opt, matrices, stages=stages_embryo)"
      ],
      "execution_count": null,
      "outputs": []
    },
    {
      "cell_type": "code",
      "metadata": {
        "id": "GFzoiCAPqzKE"
      },
      "source": [
        "TADs_scores.head()"
      ],
      "execution_count": null,
      "outputs": []
    },
    {
      "cell_type": "markdown",
      "metadata": {
        "id": "a_sOMNZdqzKE"
      },
      "source": [
        "### Normalize D-scores:"
      ]
    },
    {
      "cell_type": "code",
      "metadata": {
        "id": "3_LtilILqzKE"
      },
      "source": [
        "TADs_scores_norm = normalize(TADs_scores, ['D_{}'.format(x) for x in stages_embryo], type_norm='log-row')"
      ],
      "execution_count": null,
      "outputs": []
    },
    {
      "cell_type": "code",
      "metadata": {
        "id": "Krio99emqzKF"
      },
      "source": [
        "TADs_scores_norm.head()"
      ],
      "execution_count": null,
      "outputs": []
    },
    {
      "cell_type": "markdown",
      "metadata": {
        "id": "sKiQ1n6VqzKF"
      },
      "source": [
        "### Call clusters:"
      ]
    },
    {
      "cell_type": "code",
      "metadata": {
        "id": "SKvlS3fEqzKF"
      },
      "source": [
        "TADs_clustering = clusters(TADs_scores_norm, ['norm_D_{}'.format(x) for x in stages_embryo], \n",
        "                                 method='kmeans', n_clusters=3)"
      ],
      "execution_count": null,
      "outputs": []
    },
    {
      "cell_type": "code",
      "metadata": {
        "id": "8YoUp_N2qzKF"
      },
      "source": [
        "TADs_clustering.head()"
      ],
      "execution_count": null,
      "outputs": []
    },
    {
      "cell_type": "markdown",
      "metadata": {
        "id": "jWu-wG1eqzKF"
      },
      "source": [
        "### Evaluate clustering:"
      ]
    },
    {
      "cell_type": "code",
      "metadata": {
        "id": "Tbw5pmuoqzKF"
      },
      "source": [
        "silhouette(TADs_clustering, ['norm_D_{}'.format(x) for x in stages_embryo], 'cluster_kmeans')"
      ],
      "execution_count": null,
      "outputs": []
    },
    {
      "cell_type": "markdown",
      "metadata": {
        "id": "R4kN_PwJqzKF"
      },
      "source": [
        "### Visualize clusters:"
      ]
    },
    {
      "cell_type": "code",
      "metadata": {
        "id": "r59DycI5qzKG"
      },
      "source": [
        "colors = clusters_dynamics(TADs_clustering, ['norm_D_{}'.format(x) for x in stages_embryo], 'cluster_kmeans')"
      ],
      "execution_count": null,
      "outputs": []
    },
    {
      "cell_type": "code",
      "metadata": {
        "id": "ttTejXmlqzKG"
      },
      "source": [
        "_pca(TADs_clustering, ['norm_D_{}'.format(x) for x in stages_embryo], 'cluster_kmeans')"
      ],
      "execution_count": null,
      "outputs": []
    },
    {
      "cell_type": "code",
      "metadata": {
        "id": "_NrqOz9vqzKG"
      },
      "source": [
        "_tsne(TADs_clustering, ['norm_D_{}'.format(x) for x in stages_embryo], 'cluster_kmeans')"
      ],
      "execution_count": null,
      "outputs": []
    },
    {
      "cell_type": "code",
      "metadata": {
        "id": "tK7zTsepqzKG"
      },
      "source": [
        "viz_tads(TADs_clustering, matrices, begin=300, end=500, ch='chrX', exp='3-4h_repl_merged_5kb', \n",
        "         resolution=5000, method='kmeans', is_insulation=False, clusters=True, colors=colors, percentile=99.99)"
      ],
      "execution_count": null,
      "outputs": []
    },
    {
      "cell_type": "markdown",
      "metadata": {
        "id": "_UwWHvmDqzJ6"
      },
      "source": [
        "# TAD boundaries"
      ]
    },
    {
      "cell_type": "markdown",
      "metadata": {
        "id": "iS-ex6Z7qzJ6"
      },
      "source": [
        "### Call boundaries:"
      ]
    },
    {
      "cell_type": "code",
      "metadata": {
        "id": "7GX5AJHGqzJ7"
      },
      "source": [
        "BOUNDARIES_df, BOUNDARIES_df_opt, \\\n",
        "BOUNDARIES_stats, BOUNDARIES_opt_windows = boundaries(matrices, coolers, label='3-4h_repl_merged_5kb', \n",
        "                                                      expected_tad_size=60000, chromnames=['chrX'], \n",
        "                                                      filtration='custom', bs_thresholds={'3-4h_repl_merged_5kb': 0.35})"
      ],
      "execution_count": null,
      "outputs": []
    },
    {
      "cell_type": "code",
      "metadata": {
        "id": "tKTl78GCqzJ7"
      },
      "source": [
        "BOUNDARIES_df_opt.shape"
      ],
      "execution_count": null,
      "outputs": []
    },
    {
      "cell_type": "markdown",
      "metadata": {
        "id": "dQalMsdIqzJ8"
      },
      "source": [
        "### Visualize opt curves:"
      ]
    },
    {
      "cell_type": "code",
      "metadata": {
        "id": "-r8wy2jyqzJ8"
      },
      "source": [
        "viz_opt_curves(BOUNDARIES_stats, BOUNDARIES_df_opt, method='insulation', chromnames=['chrX'], expected_mts=60000/5000, stage='3-4h_repl_merged_5kb')"
      ],
      "execution_count": null,
      "outputs": []
    },
    {
      "cell_type": "markdown",
      "metadata": {
        "id": "3OSwNb41qzJ9"
      },
      "source": [
        "### Visualize boundaries:"
      ]
    },
    {
      "cell_type": "code",
      "metadata": {
        "id": "ayIDHe_iqzJ9"
      },
      "source": [
        "viz_tads(BOUNDARIES_df_opt, matrices, begin=300, end=500, ch='chrX', exp='3-4h_repl_merged_5kb', \n",
        "         resolution=5000, is_insulation=True, percentile=99.99)"
      ],
      "execution_count": null,
      "outputs": []
    },
    {
      "cell_type": "markdown",
      "metadata": {
        "id": "S0OWG0iaqzJ-"
      },
      "source": [
        "### Compute insulation scores:"
      ]
    },
    {
      "cell_type": "code",
      "metadata": {
        "id": "ZQGM2CZzqzJ-"
      },
      "source": [
        "stages_embryo = ['nuclear_cycle_12_repl_merged_5kb', 'nuclear_cycle_13_repl_merged_5kb', 'nuclear_cycle_14_repl_merged_5kb', '3-4h_repl_merged_5kb']"
      ],
      "execution_count": null,
      "outputs": []
    },
    {
      "cell_type": "code",
      "metadata": {
        "id": "wlDQ7powqzJ-"
      },
      "source": [
        "BOUNDARIES_scores = insulation_scores(BOUNDARIES_df_opt, coolers, stages=stages_embryo, chromnames=['chrX'])"
      ],
      "execution_count": null,
      "outputs": []
    },
    {
      "cell_type": "code",
      "metadata": {
        "id": "_-FA5E0TqzJ-"
      },
      "source": [
        "BOUNDARIES_scores.head()"
      ],
      "execution_count": null,
      "outputs": []
    },
    {
      "cell_type": "markdown",
      "metadata": {
        "id": "s6H4n6z9qzJ_"
      },
      "source": [
        "### Normalize insulation scores:"
      ]
    },
    {
      "cell_type": "code",
      "metadata": {
        "id": "fOfAZBVNqzJ_"
      },
      "source": [
        "BOUNDARIES_scores_norm = normalize(BOUNDARIES_scores, ['ins_score_{}'.format(x) for x in stages_embryo], type_norm='log-row')"
      ],
      "execution_count": null,
      "outputs": []
    },
    {
      "cell_type": "code",
      "metadata": {
        "id": "nJERzlaiqzJ_"
      },
      "source": [
        "BOUNDARIES_scores_norm.head()"
      ],
      "execution_count": null,
      "outputs": []
    },
    {
      "cell_type": "markdown",
      "metadata": {
        "id": "yUgfu_tZqzKA"
      },
      "source": [
        "### Call clusters:"
      ]
    },
    {
      "cell_type": "code",
      "metadata": {
        "id": "p75CWNcWqzKA"
      },
      "source": [
        "BOUNDARIES_clustering = clusters(BOUNDARIES_scores_norm, ['norm_ins_score_{}'.format(x) for x in stages_embryo], \n",
        "                                 method='kmeans', n_clusters=3)"
      ],
      "execution_count": null,
      "outputs": []
    },
    {
      "cell_type": "code",
      "metadata": {
        "id": "vPXUFHs9qzKA"
      },
      "source": [
        "BOUNDARIES_clustering.head()"
      ],
      "execution_count": null,
      "outputs": []
    },
    {
      "cell_type": "markdown",
      "metadata": {
        "id": "uUJMxkSvqzKB"
      },
      "source": [
        "### Evaluate clustering:"
      ]
    },
    {
      "cell_type": "code",
      "metadata": {
        "id": "vjECCgKzqzKB"
      },
      "source": [
        "silhouette(BOUNDARIES_clustering, ['norm_ins_score_{}'.format(x) for x in stages_embryo], 'cluster_kmeans')"
      ],
      "execution_count": null,
      "outputs": []
    },
    {
      "cell_type": "markdown",
      "metadata": {
        "id": "S2-NrQzJqzKB"
      },
      "source": [
        "### Visualize clusters:"
      ]
    },
    {
      "cell_type": "code",
      "metadata": {
        "id": "5AnJeQbgqzKB"
      },
      "source": [
        "colors = clusters_dynamics(BOUNDARIES_clustering, ['norm_ins_score_{}'.format(x) for x in stages_embryo], 'cluster_kmeans')"
      ],
      "execution_count": null,
      "outputs": []
    },
    {
      "cell_type": "code",
      "metadata": {
        "id": "3xkJX_RGqzKC"
      },
      "source": [
        "_pca(BOUNDARIES_clustering, ['norm_ins_score_{}'.format(x) for x in stages_embryo], 'cluster_kmeans')"
      ],
      "execution_count": null,
      "outputs": []
    },
    {
      "cell_type": "code",
      "metadata": {
        "id": "rZwhms7fqzKC"
      },
      "source": [
        "_tsne(BOUNDARIES_clustering, ['norm_ins_score_{}'.format(x) for x in stages_embryo], 'cluster_kmeans')"
      ],
      "execution_count": null,
      "outputs": []
    },
    {
      "cell_type": "code",
      "metadata": {
        "id": "lNmSgWqaqzKC"
      },
      "source": [
        "viz_tads(BOUNDARIES_clustering, matrices, begin=300, end=500, ch='chrX', exp='3-4h_repl_merged_5kb', \n",
        "         resolution=5000, method='kmeans', is_insulation=True, clusters=True, colors=colors, percentile=99.99)"
      ],
      "execution_count": null,
      "outputs": []
    }
  ]
}