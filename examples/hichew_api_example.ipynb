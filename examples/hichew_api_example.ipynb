{
 "cells": [
  {
   "cell_type": "markdown",
   "metadata": {
    "id": "39KB2mLixcDv"
   },
   "source": [
    "## Hi! This is a **notebook** for DNA-DNA interactions analysis \n",
    "\n",
    "\n",
    "Notabook is a piece of programming code with annotations and a diary of your actions at the same time. In this notebook we will go into details of time series analysis for DNA-DNA interactions.\n",
    "\n",
    "It was designed so that you can understand of basics in multiple fields simultaneously:\n",
    "\n",
    "- Colab Google service for programming code development\n",
    "\n",
    "- Jupyter notebooks for programming demonstration\n",
    "\n",
    "- Python programming\n",
    "\n",
    "- Theory of DNA-DNA interactions capture in biological samples (Hi-C)\n",
    "\n",
    "- Hi-C data analysis and manipulation\n",
    "\n",
    "As you can see, these are multiple problems that we tackle here, and it's okay to **question how it works** and **pause and look into steps until you got them**."
   ]
  },
  {
   "cell_type": "markdown",
   "metadata": {
    "id": "HRGErS1yzAAp"
   },
   "source": [
    "Let's start from simple things to get acquainted with Colab and notebooks.\n"
   ]
  },
  {
   "cell_type": "code",
   "execution_count": null,
   "metadata": {
    "id": "BzxkuIBzy-cq"
   },
   "outputs": [],
   "source": [
    "### This is a piece of Python code that you can run by clicking the \"play\" button or pressing Shift+Enter\n",
    "print(\"Hello, SMTBologist!\")"
   ]
  },
  {
   "cell_type": "code",
   "execution_count": null,
   "metadata": {
    "id": "Ss3spt_BzrPF"
   },
   "outputs": [],
   "source": [
    "# Ah, if you see some text starting with \"#\", it is a comment and not a code itself"
   ]
  },
  {
   "cell_type": "code",
   "execution_count": null,
   "metadata": {
    "id": "_dhMmT3_z4En"
   },
   "outputs": [],
   "source": [
    "# If you want to learn more about function or variable in Python, you can always ask for help. Just type:\n",
    "print?"
   ]
  },
  {
   "cell_type": "markdown",
   "metadata": {
    "id": "tjtBvWsD0MZY"
   },
   "source": [
    "### Set up the coding environment"
   ]
  },
  {
   "cell_type": "code",
   "execution_count": null,
   "metadata": {
    "id": "2D-fzg6Ur-WN"
   },
   "outputs": [],
   "source": [
    "# Download and install code\n",
    "! git clone https://github.com/encent/hichew && cd hichew && pip install -e .\n",
    "! git clone https://github.com/nvictus/lavaburst.git && cd lavaburst && make build -f Makefile && make install -f Makefile"
   ]
  },
  {
   "cell_type": "code",
   "execution_count": null,
   "metadata": {
    "id": "e06pi02stf-t"
   },
   "outputs": [],
   "source": [
    "# Mount your Google Drive\n",
    "from google.colab import drive\n",
    "drive.mount('/content/drive')"
   ]
  },
  {
   "cell_type": "code",
   "execution_count": null,
   "metadata": {
    "id": "nDGIw0UdqzJ1"
   },
   "outputs": [],
   "source": [
    "# Import important packages\n",
    "import numpy as np\n",
    "import pandas as pd\n",
    "import matplotlib as mpl\n",
    "import matplotlib.pyplot as plt"
   ]
  },
  {
   "cell_type": "markdown",
   "metadata": {
    "id": "dTdvB8hnuL_n"
   },
   "source": [
    "### What are DNA-DNA interactions and how do we measure them?\n",
    "\n",
    "Hi-C is an experimental technique that outputs DNA_DNA interactions in the nuclei of the tested cells:\n",
    "\n"
   ]
  },
  {
   "cell_type": "code",
   "execution_count": null,
   "metadata": {
    "colab": {
     "base_uri": "https://localhost:8080/",
     "height": 441
    },
    "id": "bN4cwe13uPti",
    "outputId": "16c1489e-b3f9-40a4-9630-90e8e105a541"
   },
   "outputs": [],
   "source": [
    "%%html\n",
    "<iframe src=\"https://slides.com/agalicina/time-series-dna-graph/embed\" width=\"576\" height=\"420\" scrolling=\"no\" frameborder=\"0\" webkitallowfullscreen mozallowfullscreen allowfullscreen></iframe>"
   ]
  },
  {
   "cell_type": "markdown",
   "metadata": {
    "id": "I_mJbUIHwu09"
   },
   "source": [
    "Let's analyse Hi-C data!"
   ]
  },
  {
   "cell_type": "code",
   "execution_count": null,
   "metadata": {
    "id": "mgmxodHSwjt8"
   },
   "outputs": [],
   "source": [
    "import cooler # Load the package to work with Hi-C\n",
    "import networkx as nx # Visualize the graph"
   ]
  },
  {
   "cell_type": "code",
   "execution_count": null,
   "metadata": {
    "id": "CfmEeen0w-nU"
   },
   "outputs": [],
   "source": [
    "!ls /content/drive/MyDrive/SMTB_data/"
   ]
  },
  {
   "cell_type": "code",
   "execution_count": null,
   "metadata": {
    "id": "QL_4598Pw4UG"
   },
   "outputs": [],
   "source": [
    "cool_file = cooler.Cooler('/content/drive/MyDrive/SMTB_data/3-4h_repl_merged_5kb.mcool::/resolutions/20000')"
   ]
  },
  {
   "cell_type": "code",
   "execution_count": null,
   "metadata": {
    "id": "FU27K75LxQ1q"
   },
   "outputs": [],
   "source": [
    "cool_file.info"
   ]
  },
  {
   "cell_type": "code",
   "execution_count": null,
   "metadata": {
    "id": "BLVgcLui0pyB"
   },
   "outputs": [],
   "source": [
    "cool_file.chromnames"
   ]
  },
  {
   "cell_type": "code",
   "execution_count": null,
   "metadata": {
    "id": "-DTwtTobxIuy"
   },
   "outputs": [],
   "source": [
    "interactions = cool_file.matrix(as_pixels=True).fetch('chr2L')"
   ]
  },
  {
   "cell_type": "code",
   "execution_count": null,
   "metadata": {
    "id": "qqC6vBwP0wVY"
   },
   "outputs": [],
   "source": [
    "interactions.head()"
   ]
  },
  {
   "cell_type": "code",
   "execution_count": null,
   "metadata": {
    "id": "sgZCmoOC1i6D"
   },
   "outputs": [],
   "source": [
    "matrix = cool_file.matrix(as_pixels=False).fetch('chr2L')"
   ]
  },
  {
   "cell_type": "code",
   "execution_count": null,
   "metadata": {
    "id": "Hh8vJKuF3D6i"
   },
   "outputs": [],
   "source": [
    "plt.figure(figsize=[5,5])\n",
    "plt.imshow(matrix[0:30, 0:30], cmap='Reds', vmax=0.2)"
   ]
  },
  {
   "cell_type": "markdown",
   "metadata": {
    "id": "6hPj9RRe0zEM"
   },
   "source": [
    "Let's visualize it as a graph:"
   ]
  },
  {
   "cell_type": "code",
   "execution_count": null,
   "metadata": {
    "id": "H9vZ3-US1n5V"
   },
   "outputs": [],
   "source": [
    "G = nx.convert_matrix.from_numpy_matrix(matrix[0:30, 0:30])"
   ]
  },
  {
   "cell_type": "code",
   "execution_count": null,
   "metadata": {
    "id": "BnrlQPoG0yYf"
   },
   "outputs": [],
   "source": [
    "plt.figure(figsize=[14,7])\n",
    "subax1 = plt.subplot(121)\n",
    "nx.draw(G, with_labels=True, font_weight='bold')\n",
    "subax2 = plt.subplot(122)\n",
    "nx.draw_shell(G, with_labels=True, font_weight='bold')"
   ]
  },
  {
   "cell_type": "code",
   "execution_count": null,
   "metadata": {
    "id": "teZSvoSK5EdP"
   },
   "outputs": [],
   "source": [
    "plt.figure(figsize=[14,14])\n",
    "\n",
    "elarge = [(u, v) for (u, v, d) in G.edges(data=True) if d[\"weight\"] > 0.1]\n",
    "esmall = [(u, v) for (u, v, d) in G.edges(data=True) if d[\"weight\"] <= 0.1]\n",
    "\n",
    "pos = nx.spring_layout(G, seed=7)  # positions for all nodes - seed for reproducibility\n",
    "\n",
    "# nodes\n",
    "nx.draw_networkx_nodes(G, pos, node_size=700)\n",
    "\n",
    "# edges\n",
    "nx.draw_networkx_edges(G, pos, edgelist=elarge, width=2)\n",
    "nx.draw_networkx_edges(G, pos, edgelist=esmall, width=1, alpha=0.5, edge_color=\"b\")\n",
    "\n",
    "# labels\n",
    "nx.draw_networkx_labels(G, pos, font_size=20, font_family=\"sans-serif\")\n",
    "\n",
    "print('')"
   ]
  },
  {
   "cell_type": "markdown",
   "metadata": {
    "id": "kczGTmnEuQDa"
   },
   "source": [
    "### Analysis of a set of experiments"
   ]
  },
  {
   "cell_type": "code",
   "execution_count": null,
   "metadata": {
    "id": "WPttiTeHsOJN"
   },
   "outputs": [],
   "source": [
    "import hichew"
   ]
  },
  {
   "cell_type": "code",
   "execution_count": null,
   "metadata": {
    "id": "GILsbteNqzJ2"
   },
   "outputs": [],
   "source": [
    "from hichew.calling import boundaries, domains, clusters\n",
    "from hichew.compute import normalize, d_scores, insulation_scores, silhouette"
   ]
  },
  {
   "cell_type": "code",
   "execution_count": null,
   "metadata": {
    "id": "iDjMoDYeqzJ2"
   },
   "outputs": [],
   "source": [
    "from hichew.loader import cool_files"
   ]
  },
  {
   "cell_type": "code",
   "execution_count": null,
   "metadata": {
    "id": "0jvYIdi2qzJ3"
   },
   "outputs": [],
   "source": [
    "from hichew.plot import clusters_dynamics, viz_opt_curves, viz_tads, _pca, _tsne"
   ]
  },
  {
   "cell_type": "code",
   "execution_count": null,
   "metadata": {
    "id": "tRxBI5xnqzJ3"
   },
   "outputs": [],
   "source": [
    "%matplotlib inline"
   ]
  },
  {
   "cell_type": "markdown",
   "metadata": {
    "id": "830DpD8ZqzJ3"
   },
   "source": [
    "### Load cool files:"
   ]
  },
  {
   "cell_type": "code",
   "execution_count": null,
   "metadata": {
    "id": "kRhK72-uqzJ4"
   },
   "outputs": [],
   "source": [
    "matrices, coolers = cool_files('/content/drive/MyDrive/SMTB_data/', resolution=5000, chromnames=['chrX'])"
   ]
  },
  {
   "cell_type": "code",
   "execution_count": null,
   "metadata": {
    "id": "KU4Xg5KqqzJ5"
   },
   "outputs": [],
   "source": [
    "matrices.keys()"
   ]
  },
  {
   "cell_type": "markdown",
   "metadata": {
    "id": "_UwWHvmDqzJ6"
   },
   "source": [
    "# TAD boundaries"
   ]
  },
  {
   "cell_type": "markdown",
   "metadata": {
    "id": "iS-ex6Z7qzJ6"
   },
   "source": [
    "### Call boundaries:"
   ]
  },
  {
   "cell_type": "code",
   "execution_count": null,
   "metadata": {
    "id": "7GX5AJHGqzJ7"
   },
   "outputs": [],
   "source": [
    "BOUNDARIES_df, BOUNDARIES_df_opt, \\\n",
    "BOUNDARIES_stats, BOUNDARIES_opt_windows = boundaries(matrices, coolers, label='3-4h_repl_merged_5kb', \n",
    "                                                      expected_tad_size=60000, chromnames=['chrX'], \n",
    "                                                      filtration='custom', bs_thresholds={'3-4h_repl_merged_5kb': 0.35})"
   ]
  },
  {
   "cell_type": "code",
   "execution_count": null,
   "metadata": {
    "id": "tKTl78GCqzJ7"
   },
   "outputs": [],
   "source": [
    "BOUNDARIES_df_opt.shape"
   ]
  },
  {
   "cell_type": "markdown",
   "metadata": {
    "id": "dQalMsdIqzJ8"
   },
   "source": [
    "### Visualize opt curves:"
   ]
  },
  {
   "cell_type": "code",
   "execution_count": null,
   "metadata": {
    "id": "-r8wy2jyqzJ8"
   },
   "outputs": [],
   "source": [
    "viz_opt_curves(BOUNDARIES_stats, BOUNDARIES_df_opt, method='insulation', chromnames=['chrX'], expected_mts=60000, stage='3-4h_repl_merged_5kb')"
   ]
  },
  {
   "cell_type": "markdown",
   "metadata": {
    "id": "3OSwNb41qzJ9"
   },
   "source": [
    "### Visualize boundaries:"
   ]
  },
  {
   "cell_type": "code",
   "execution_count": null,
   "metadata": {
    "id": "ayIDHe_iqzJ9"
   },
   "outputs": [],
   "source": [
    "viz_tads(BOUNDARIES_df_opt, matrices, begin=300, end=500, ch='chrX', exp='3-4h_repl_merged_5kb', \n",
    "         resolution=5000, is_insulation=True, percentile=99.99)"
   ]
  },
  {
   "cell_type": "markdown",
   "metadata": {
    "id": "S0OWG0iaqzJ-"
   },
   "source": [
    "### Compute insulation scores:"
   ]
  },
  {
   "cell_type": "code",
   "execution_count": null,
   "metadata": {
    "id": "ZQGM2CZzqzJ-"
   },
   "outputs": [],
   "source": [
    "stages_embryo = ['nuclear_cycle_12_repl_merged_5kb', 'nuclear_cycle_13_repl_merged_5kb', 'nuclear_cycle_14_repl_merged_5kb', '3-4h_repl_merged_5kb']"
   ]
  },
  {
   "cell_type": "code",
   "execution_count": null,
   "metadata": {
    "id": "wlDQ7powqzJ-"
   },
   "outputs": [],
   "source": [
    "BOUNDARIES_scores = insulation_scores(BOUNDARIES_df_opt, coolers, stages=stages_embryo, chromnames=['chrX'])"
   ]
  },
  {
   "cell_type": "code",
   "execution_count": null,
   "metadata": {
    "id": "_-FA5E0TqzJ-"
   },
   "outputs": [],
   "source": [
    "BOUNDARIES_scores.head()"
   ]
  },
  {
   "cell_type": "markdown",
   "metadata": {
    "id": "s6H4n6z9qzJ_"
   },
   "source": [
    "### Normalize insulation scores:"
   ]
  },
  {
   "cell_type": "code",
   "execution_count": null,
   "metadata": {
    "id": "fOfAZBVNqzJ_"
   },
   "outputs": [],
   "source": [
    "BOUNDARIES_scores_norm = normalize(BOUNDARIES_scores, ['ins_score_{}'.format(x) for x in stages_embryo], type_norm='log-row')"
   ]
  },
  {
   "cell_type": "code",
   "execution_count": null,
   "metadata": {
    "id": "nJERzlaiqzJ_"
   },
   "outputs": [],
   "source": [
    "BOUNDARIES_scores_norm.head()"
   ]
  },
  {
   "cell_type": "markdown",
   "metadata": {
    "id": "yUgfu_tZqzKA"
   },
   "source": [
    "### Call clusters:"
   ]
  },
  {
   "cell_type": "code",
   "execution_count": null,
   "metadata": {
    "id": "p75CWNcWqzKA"
   },
   "outputs": [],
   "source": [
    "BOUNDARIES_clustering = clusters(BOUNDARIES_scores_norm, ['norm_ins_score_{}'.format(x) for x in stages_embryo], \n",
    "                                 method='kmeans', n_clusters=3)"
   ]
  },
  {
   "cell_type": "code",
   "execution_count": null,
   "metadata": {
    "id": "vPXUFHs9qzKA"
   },
   "outputs": [],
   "source": [
    "BOUNDARIES_clustering.head()"
   ]
  },
  {
   "cell_type": "markdown",
   "metadata": {
    "id": "uUJMxkSvqzKB"
   },
   "source": [
    "### Evaluate clustering:"
   ]
  },
  {
   "cell_type": "code",
   "execution_count": null,
   "metadata": {
    "id": "vjECCgKzqzKB"
   },
   "outputs": [],
   "source": [
    "silhouette(BOUNDARIES_clustering, ['norm_ins_score_{}'.format(x) for x in stages_embryo], 'cluster_kmeans')"
   ]
  },
  {
   "cell_type": "markdown",
   "metadata": {
    "id": "S2-NrQzJqzKB"
   },
   "source": [
    "### Visualize clusters:"
   ]
  },
  {
   "cell_type": "code",
   "execution_count": null,
   "metadata": {
    "id": "5AnJeQbgqzKB"
   },
   "outputs": [],
   "source": [
    "colors = clusters_dynamics(BOUNDARIES_clustering, ['norm_ins_score_{}'.format(x) for x in stages_embryo], 'cluster_kmeans')"
   ]
  },
  {
   "cell_type": "code",
   "execution_count": null,
   "metadata": {
    "id": "3xkJX_RGqzKC"
   },
   "outputs": [],
   "source": [
    "_pca(BOUNDARIES_clustering, ['norm_ins_score_{}'.format(x) for x in stages_embryo], 'cluster_kmeans')"
   ]
  },
  {
   "cell_type": "code",
   "execution_count": null,
   "metadata": {
    "id": "rZwhms7fqzKC"
   },
   "outputs": [],
   "source": [
    "_tsne(BOUNDARIES_clustering, ['norm_ins_score_{}'.format(x) for x in stages_embryo], 'cluster_kmeans')"
   ]
  },
  {
   "cell_type": "code",
   "execution_count": null,
   "metadata": {
    "id": "lNmSgWqaqzKC"
   },
   "outputs": [],
   "source": [
    "viz_tads(BOUNDARIES_clustering, matrices, begin=300, end=500, ch='chrX', exp='3-4h_repl_merged_5kb', \n",
    "         resolution=5000, method='kmeans', is_insulation=True, clusters=True, colors=colors, percentile=99.99)"
   ]
  },
  {
   "cell_type": "markdown",
   "metadata": {
    "id": "UTpjutL-qzKC"
   },
   "source": [
    "# TADs"
   ]
  },
  {
   "cell_type": "markdown",
   "metadata": {
    "id": "xCJGH4THqzKC"
   },
   "source": [
    "### Call TADs:"
   ]
  },
  {
   "cell_type": "code",
   "execution_count": null,
   "metadata": {
    "id": "N42P3uuXqzKD"
   },
   "outputs": [],
   "source": [
    "TADs_stats, TADs_df, TADs_df_opt = domains(matrices, coolers, method='armatus', label='3-4h_repl_merged_5kb', \n",
    "                                           expected_tad_size=60000, grid=list(np.arange(0, 5, 0.01)), \n",
    "                                           chromnames=['chrX'], max_intertad=3, percentile=99.9, eps=1e-1)\n",
    "\n",
    "# TADs_stats, TADs_df, TADs_df_opt = domains(matrices, coolers, method='modularity', label='3-4h_repl_merged_5kb', \n",
    "#                                            expected_tad_size=60000, grid=list(np.arange(0, 200, 0.1)), \n",
    "#                                            chromnames=['chrX'], max_intertad=2, percentile=99.9, eps=1e-1)"
   ]
  },
  {
   "cell_type": "code",
   "execution_count": null,
   "metadata": {
    "id": "EpUfIbESqzKD"
   },
   "outputs": [],
   "source": [
    "TADs_df_opt.shape"
   ]
  },
  {
   "cell_type": "markdown",
   "metadata": {
    "id": "0mtmiYN2qzKD"
   },
   "source": [
    "### Visualize opt curves:"
   ]
  },
  {
   "cell_type": "code",
   "execution_count": null,
   "metadata": {
    "id": "9iuNOQCFqzKD"
   },
   "outputs": [],
   "source": [
    "viz_opt_curves(TADs_df, TADs_df_opt, method='modularity', chromnames=['chrX'], expected_mts=60000/5000, stage='3-4h_repl_merged_5kb')\n",
    "\n"
   ]
  },
  {
   "cell_type": "markdown",
   "metadata": {
    "id": "1OKJ0mG1qzKD"
   },
   "source": [
    "### Visualize TADs:"
   ]
  },
  {
   "cell_type": "code",
   "execution_count": null,
   "metadata": {
    "id": "ekJbfGYeqzKE"
   },
   "outputs": [],
   "source": [
    "viz_tads(TADs_df_opt, matrices, begin=300, end=500, ch='chrX', exp='3-4h_repl_merged_5kb', \n",
    "         resolution=5000, is_insulation=False, percentile=99.99)"
   ]
  },
  {
   "cell_type": "markdown",
   "metadata": {
    "id": "q5vDRGyJqzKE"
   },
   "source": [
    "### Compute D-scores:"
   ]
  },
  {
   "cell_type": "code",
   "execution_count": null,
   "metadata": {
    "id": "EUaUkTTnqzKE"
   },
   "outputs": [],
   "source": [
    "stages_embryo = ['nuclear_cycle_12_repl_merged_5kb', 'nuclear_cycle_13_repl_merged_5kb', 'nuclear_cycle_14_repl_merged_5kb', '3-4h_repl_merged_5kb']"
   ]
  },
  {
   "cell_type": "code",
   "execution_count": null,
   "metadata": {
    "id": "WyW_vtQyqzKE"
   },
   "outputs": [],
   "source": [
    "TADs_scores = d_scores(TADs_df_opt, matrices, stages=stages_embryo)"
   ]
  },
  {
   "cell_type": "code",
   "execution_count": null,
   "metadata": {
    "id": "GFzoiCAPqzKE"
   },
   "outputs": [],
   "source": [
    "TADs_scores.head()"
   ]
  },
  {
   "cell_type": "markdown",
   "metadata": {
    "id": "a_sOMNZdqzKE"
   },
   "source": [
    "### Normalize D-scores:"
   ]
  },
  {
   "cell_type": "code",
   "execution_count": null,
   "metadata": {
    "id": "3_LtilILqzKE"
   },
   "outputs": [],
   "source": [
    "TADs_scores_norm = normalize(TADs_scores, ['D_{}'.format(x) for x in stages_embryo], type_norm='log-row')"
   ]
  },
  {
   "cell_type": "code",
   "execution_count": null,
   "metadata": {
    "id": "Krio99emqzKF"
   },
   "outputs": [],
   "source": [
    "TADs_scores_norm.head()"
   ]
  },
  {
   "cell_type": "markdown",
   "metadata": {
    "id": "sKiQ1n6VqzKF"
   },
   "source": [
    "### Call clusters:"
   ]
  },
  {
   "cell_type": "code",
   "execution_count": null,
   "metadata": {
    "id": "SKvlS3fEqzKF"
   },
   "outputs": [],
   "source": [
    "TADs_clustering = clusters(TADs_scores_norm, ['norm_D_{}'.format(x) for x in stages_embryo], \n",
    "                                 method='kmeans', n_clusters=3)"
   ]
  },
  {
   "cell_type": "code",
   "execution_count": null,
   "metadata": {
    "id": "8YoUp_N2qzKF"
   },
   "outputs": [],
   "source": [
    "TADs_clustering.head()"
   ]
  },
  {
   "cell_type": "markdown",
   "metadata": {
    "id": "jWu-wG1eqzKF"
   },
   "source": [
    "### Evaluate clustering:"
   ]
  },
  {
   "cell_type": "code",
   "execution_count": null,
   "metadata": {
    "id": "Tbw5pmuoqzKF"
   },
   "outputs": [],
   "source": [
    "silhouette(TADs_clustering, ['norm_D_{}'.format(x) for x in stages_embryo], 'cluster_kmeans')"
   ]
  },
  {
   "cell_type": "markdown",
   "metadata": {
    "id": "R4kN_PwJqzKF"
   },
   "source": [
    "### Visualize clusters:"
   ]
  },
  {
   "cell_type": "code",
   "execution_count": null,
   "metadata": {
    "id": "r59DycI5qzKG"
   },
   "outputs": [],
   "source": [
    "colors = clusters_dynamics(TADs_clustering, ['norm_D_{}'.format(x) for x in stages_embryo], 'cluster_kmeans')"
   ]
  },
  {
   "cell_type": "code",
   "execution_count": null,
   "metadata": {
    "id": "ttTejXmlqzKG"
   },
   "outputs": [],
   "source": [
    "_pca(TADs_clustering, ['norm_D_{}'.format(x) for x in stages_embryo], 'cluster_kmeans')"
   ]
  },
  {
   "cell_type": "code",
   "execution_count": null,
   "metadata": {
    "id": "_NrqOz9vqzKG"
   },
   "outputs": [],
   "source": [
    "_tsne(TADs_clustering, ['norm_D_{}'.format(x) for x in stages_embryo], 'cluster_kmeans')"
   ]
  },
  {
   "cell_type": "code",
   "execution_count": null,
   "metadata": {
    "id": "tK7zTsepqzKG"
   },
   "outputs": [],
   "source": [
    "viz_tads(TADs_clustering, matrices, begin=300, end=500, ch='chrX', exp='3-4h_repl_merged_5kb', \n",
    "         resolution=5000, method='kmeans', is_insulation=False, clusters=True, colors=colors, percentile=99.99)"
   ]
  },
  {
   "cell_type": "code",
   "execution_count": null,
   "metadata": {
    "id": "0FR8GQWkqzKG"
   },
   "outputs": [],
   "source": []
  },
  {
   "cell_type": "code",
   "execution_count": null,
   "metadata": {
    "id": "zCyUnnx8qzKG"
   },
   "outputs": [],
   "source": []
  },
  {
   "cell_type": "code",
   "execution_count": null,
   "metadata": {
    "id": "_SrBEZbsqzKH"
   },
   "outputs": [],
   "source": []
  }
 ],
 "metadata": {
  "colab": {
   "include_colab_link": true,
   "name": "hichew_api_example.ipynb",
   "provenance": []
  },
  "kernelspec": {
   "display_name": "Python 3",
   "language": "python",
   "name": "python3"
  },
  "language_info": {
   "codemirror_mode": {
    "name": "ipython",
    "version": 3
   },
   "file_extension": ".py",
   "mimetype": "text/x-python",
   "name": "python",
   "nbconvert_exporter": "python",
   "pygments_lexer": "ipython3",
   "version": "3.7.3"
  }
 },
 "nbformat": 4,
 "nbformat_minor": 1
}
